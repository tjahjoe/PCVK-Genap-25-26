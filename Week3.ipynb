{
  "nbformat": 4,
  "nbformat_minor": 0,
  "metadata": {
    "colab": {
      "provenance": [],
      "authorship_tag": "ABX9TyPwMxBrwHBw/5y0pQbebuII",
      "include_colab_link": true
    },
    "kernelspec": {
      "name": "python3",
      "display_name": "Python 3"
    },
    "language_info": {
      "name": "python"
    }
  },
  "cells": [
    {
      "cell_type": "markdown",
      "metadata": {
        "id": "view-in-github",
        "colab_type": "text"
      },
      "source": [
        "<a href=\"https://colab.research.google.com/github/tjahjoe/PCVK-Genap-25-26/blob/main/Week3.ipynb\" target=\"_parent\"><img src=\"https://colab.research.google.com/assets/colab-badge.svg\" alt=\"Open In Colab\"/></a>"
      ]
    },
    {
      "cell_type": "code",
      "source": [
        "import numpy as np\n",
        "import cv2 as cv\n",
        "from google.colab.patches import cv2_imshow"
      ],
      "metadata": {
        "id": "dSBxtmzJkRjs"
      },
      "execution_count": null,
      "outputs": []
    },
    {
      "cell_type": "code",
      "execution_count": null,
      "metadata": {
        "id": "DV-Wp0A-g-db",
        "colab": {
          "base_uri": "https://localhost:8080/",
          "height": 1000
        },
        "outputId": "ca5c290c-5406-4309-9b57-37226fefcc2c"
      },
      "outputs": [],
      "source": [
        "print(' Mengubah tingkat kecerahan citra')\n",
        "print('---------------------------------')\n",
        "\n",
        "try:\n",
        "  brightness = int(input('Masukkan nilai kecerahan: '))\n",
        "except ValueError:\n",
        "  print('Error, not a number')\n",
        "\n",
        "original = cv.imread('/content/André_Onana.jpg')\n",
        "brightness_image = np.zeros(original.shape, original.dtype)\n",
        "\n",
        "for y in range(original.shape[0]):\n",
        "  for x in range(original.shape[1]):\n",
        "    for c in range(original.shape[2]):\n",
        "      brightness_image[y,x,c] = np.clip(original[y,x,c] + brightness, 0, 255)\n",
        "\n",
        "final_frame = cv.hconcat((original, brightness_image))\n",
        "cv2_imshow(final_frame)"
      ]
    },
    {
      "cell_type": "markdown",
      "source": [
        "# Tugas"
      ],
      "metadata": {
        "id": "lJO8zWlt4MGh"
      }
    },
    {
      "cell_type": "code",
      "source": [
        "img = cv.imread('/content/André_Onana.jpg')\n",
        "\n",
        "img_reverse = 255 - img\n",
        "final_frame = cv.hconcat((img, img_reverse))\n",
        "cv2_imshow(final_frame)"
      ],
      "metadata": {
        "colab": {
          "base_uri": "https://localhost:8080/",
          "height": 1000
        },
        "id": "agwpLKoO0hrn",
        "outputId": "5343ccc9-b2c5-4687-c42e-ef0fa9f7576a"
      },
      "execution_count": null,
      "outputs": []
    },
    {
      "cell_type": "code",
      "source": [
        "img = cv.imread('/content/André_Onana.jpg')\n",
        "\n",
        "img_float = img.astype(np.float32)\n",
        "\n",
        "alpha = 1.5\n",
        "beta = 0\n",
        "\n",
        "contrast_img = cv.convertScaleAbs(img_float, alpha=alpha, beta=beta)\n",
        "\n",
        "final_frame = cv.hconcat((img, contrast_img))\n",
        "cv2_imshow(final_frame)"
      ],
      "metadata": {
        "colab": {
          "base_uri": "https://localhost:8080/",
          "height": 1000
        },
        "id": "xkOc5bQ76GEs",
        "outputId": "dabb6f67-da9c-406b-e730-62cf1f4ce124"
      },
      "execution_count": null,
      "outputs": []
    },
    {
      "cell_type": "code",
      "source": [
        "img = cv.imread('/content/André_Onana.jpg')\n",
        "\n",
        "img_float = img.astype(np.float32)\n",
        "\n",
        "c = 255 / np.log(1 + np.max(img_float))\n",
        "\n",
        "log_transformed = c * np.log(1 + img_float)\n",
        "\n",
        "log_transformed = np.uint8(np.clip(log_transformed, 0, 255))\n",
        "\n",
        "final_frame = cv.hconcat((img, log_transformed))\n",
        "cv2_imshow(final_frame)"
      ],
      "metadata": {
        "colab": {
          "base_uri": "https://localhost:8080/",
          "height": 1000
        },
        "id": "fkJxiBRA5wJw",
        "outputId": "f0ca3b2e-01e4-4ed7-8772-5b5c6a1db49d"
      },
      "execution_count": null,
      "outputs": []
    },
    {
      "cell_type": "code",
      "source": [
        "import cv2 as cv\n",
        "from google.colab.patches import cv2_imshow\n",
        "import numpy as np\n",
        "\n",
        "img = cv.imread('/content/André_Onana.jpg')\n",
        "\n",
        "R = img[:,:,0].astype(np.float32)\n",
        "G = img[:,:,1].astype(np.float32)\n",
        "B = img[:,:,2].astype(np.float32)\n",
        "\n",
        "gray_lightness = ((np.maximum(np.maximum(R, G), B) + np.minimum(np.minimum(R, G), B)) / 2).astype(np.uint8)\n",
        "\n",
        "gray_lightness_color = cv.cvtColor(gray_lightness, cv.COLOR_GRAY2BGR)\n",
        "\n",
        "final_frame = cv.hconcat([img, gray_lightness_color])\n",
        "cv2_imshow(final_frame)"
      ],
      "metadata": {
        "colab": {
          "base_uri": "https://localhost:8080/",
          "height": 1000
        },
        "id": "o_lQRe8P7y9_",
        "outputId": "583b1903-f089-435d-c804-59ad1e2e448a"
      },
      "execution_count": null,
      "outputs": []
    },
    {
      "cell_type": "code",
      "source": [
        "import cv2 as cv\n",
        "from google.colab.patches import cv2_imshow\n",
        "import numpy as np\n",
        "\n",
        "img = cv.imread('/content/André_Onana.jpg')\n",
        "\n",
        "R = img[:,:,0].astype(np.float32)\n",
        "G = img[:,:,1].astype(np.float32)\n",
        "B = img[:,:,2].astype(np.float32)\n",
        "\n",
        "gray_avg = ((R + G + B) / 3).astype(np.uint8)\n",
        "gray_avg_color = cv.cvtColor(gray_avg, cv.COLOR_GRAY2BGR)\n",
        "\n",
        "final_frame = cv.hconcat([img, gray_avg_color])\n",
        "cv2_imshow(final_frame)\n"
      ],
      "metadata": {
        "colab": {
          "base_uri": "https://localhost:8080/",
          "height": 1000
        },
        "id": "3Wh971SI83zi",
        "outputId": "fb50cb4e-bc05-4b8c-ae5c-817593cc01ab"
      },
      "execution_count": null,
      "outputs": []
    },
    {
      "cell_type": "code",
      "source": [
        "img = cv.imread('/content/André_Onana.jpg')\n",
        "\n",
        "R = img[:,:,0].astype(np.float32)\n",
        "G = img[:,:,1].astype(np.float32)\n",
        "B = img[:,:,2].astype(np.float32)\n",
        "\n",
        "gray_luminance = (0.299 * R + 0.587 * G + 0.114 * B).astype(np.uint8)\n",
        "gray_luminance_color = cv.cvtColor(gray_luminance, cv.COLOR_GRAY2BGR)\n",
        "\n",
        "final_frame = cv.hconcat([img, gray_luminance_color])\n",
        "cv2_imshow(final_frame)"
      ],
      "metadata": {
        "colab": {
          "base_uri": "https://localhost:8080/",
          "height": 1000
        },
        "id": "XkI6pq4b8oyF",
        "outputId": "3254a7b3-7f18-4259-be82-26b4786d2e2d"
      },
      "execution_count": null,
      "outputs": []
    },
    {
      "cell_type": "code",
      "source": [
        "img = cv.imread('/content/André_Onana.jpg')\n",
        "\n",
        "hsv = cv.cvtColor(img, cv.COLOR_BGR2HSV)\n",
        "\n",
        "lower_blue = np.array([90, 50, 50])\n",
        "upper_blue = np.array([130, 255, 255])\n",
        "\n",
        "mask = cv.inRange(hsv, lower_blue, upper_blue)\n",
        "\n",
        "gray = cv.cvtColor(img, cv.COLOR_BGR2GRAY)\n",
        "gray_bgr = cv.cvtColor(gray, cv.COLOR_GRAY2BGR)\n",
        "\n",
        "img_blue = np.where(mask[:, :, np.newaxis] == 255, img, gray_bgr)\n",
        "\n",
        "final_frame = cv.hconcat([img, img_blue])\n",
        "cv2_imshow(final_frame)"
      ],
      "metadata": {
        "colab": {
          "base_uri": "https://localhost:8080/",
          "height": 1000
        },
        "id": "cws68E7jBsfV",
        "outputId": "58d0cf97-a0c1-4691-f7a3-c41f0dbfdcb2"
      },
      "execution_count": null,
      "outputs": []
    }
  ]
}